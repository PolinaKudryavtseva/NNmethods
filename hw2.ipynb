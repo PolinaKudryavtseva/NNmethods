{
  "nbformat": 4,
  "nbformat_minor": 0,
  "metadata": {
    "colab": {
      "name": "Копия блокнота \"hw2.ipynb\"",
      "provenance": []
    },
    "kernelspec": {
      "name": "python3",
      "display_name": "Python 3"
    },
    "language_info": {
      "name": "python"
    },
    "accelerator": "GPU"
  },
  "cells": [
    {
      "cell_type": "code",
      "source": [
        "! pip install torchmetrics"
      ],
      "metadata": {
        "id": "JGwUFYZpgK-k"
      },
      "execution_count": null,
      "outputs": []
    },
    {
      "cell_type": "code",
      "execution_count": null,
      "metadata": {
        "colab": {
          "base_uri": "https://localhost:8080/"
        },
        "id": "l0AtjblIf5Xv",
        "outputId": "0e77d371-d5b3-49d9-cc71-53babe165fd7"
      },
      "outputs": [
        {
          "output_type": "stream",
          "name": "stdout",
          "text": [
            "[nltk_data] Downloading package punkt to /root/nltk_data...\n",
            "[nltk_data]   Package punkt is already up-to-date!\n"
          ]
        }
      ],
      "source": [
        "import re\n",
        "import torch\n",
        "import torch.nn as nn\n",
        "import torch.optim as optim\n",
        "import torch.nn.functional as F\n",
        "from torchmetrics.functional import f1\n",
        "from string import punctuation\n",
        "from nltk import TweetTokenizer\n",
        "import pandas as pd\n",
        "from collections import Counter\n",
        "from torch.nn.utils.rnn import pad_sequence\n",
        "from sklearn.model_selection import train_test_split\n",
        "from torch.utils.data import Dataset, DataLoader, RandomSampler, SequentialSampler\n",
        "from tqdm import tqdm\n",
        "from nltk.tokenize import word_tokenize\n",
        "import nltk\n",
        "nltk.download('punkt')\n",
        "import matplotlib.pyplot as plt"
      ]
    },
    {
      "cell_type": "code",
      "source": [
        "col_names = ['id', 'date', 'name', 'text', 'type', 'rep', 'rtw', 'fav', 'stcount', 'foll', 'frien', 'listcount']"
      ],
      "metadata": {
        "id": "NjCp6jSxg4Pn"
      },
      "execution_count": null,
      "outputs": []
    },
    {
      "cell_type": "code",
      "source": [
        "positive_df = pd.read_csv(\"/content/drive/MyDrive/Colab Notebooks/NNmethods/positive.csv\", header=None, sep=';', names=col_names, index_col=0)"
      ],
      "metadata": {
        "id": "4m-h4MZsgihX"
      },
      "execution_count": null,
      "outputs": []
    },
    {
      "cell_type": "code",
      "source": [
        "positive_df.head()"
      ],
      "metadata": {
        "colab": {
          "base_uri": "https://localhost:8080/",
          "height": 320
        },
        "id": "Cbe6i9zggwEa",
        "outputId": "30945614-501b-49a6-b9a8-47419f65a3c8"
      },
      "execution_count": null,
      "outputs": [
        {
          "output_type": "execute_result",
          "data": {
            "text/html": [
              "<div>\n",
              "<style scoped>\n",
              "    .dataframe tbody tr th:only-of-type {\n",
              "        vertical-align: middle;\n",
              "    }\n",
              "\n",
              "    .dataframe tbody tr th {\n",
              "        vertical-align: top;\n",
              "    }\n",
              "\n",
              "    .dataframe thead th {\n",
              "        text-align: right;\n",
              "    }\n",
              "</style>\n",
              "<table border=\"1\" class=\"dataframe\">\n",
              "  <thead>\n",
              "    <tr style=\"text-align: right;\">\n",
              "      <th></th>\n",
              "      <th>date</th>\n",
              "      <th>name</th>\n",
              "      <th>text</th>\n",
              "      <th>type</th>\n",
              "      <th>rep</th>\n",
              "      <th>rtw</th>\n",
              "      <th>fav</th>\n",
              "      <th>stcount</th>\n",
              "      <th>foll</th>\n",
              "      <th>frien</th>\n",
              "      <th>listcount</th>\n",
              "    </tr>\n",
              "    <tr>\n",
              "      <th>id</th>\n",
              "      <th></th>\n",
              "      <th></th>\n",
              "      <th></th>\n",
              "      <th></th>\n",
              "      <th></th>\n",
              "      <th></th>\n",
              "      <th></th>\n",
              "      <th></th>\n",
              "      <th></th>\n",
              "      <th></th>\n",
              "      <th></th>\n",
              "    </tr>\n",
              "  </thead>\n",
              "  <tbody>\n",
              "    <tr>\n",
              "      <th>408906692374446080</th>\n",
              "      <td>1386325927</td>\n",
              "      <td>pleease_shut_up</td>\n",
              "      <td>@first_timee хоть я и школота, но поверь, у на...</td>\n",
              "      <td>1</td>\n",
              "      <td>0</td>\n",
              "      <td>0</td>\n",
              "      <td>0</td>\n",
              "      <td>7569</td>\n",
              "      <td>62</td>\n",
              "      <td>61</td>\n",
              "      <td>0</td>\n",
              "    </tr>\n",
              "    <tr>\n",
              "      <th>408906692693221377</th>\n",
              "      <td>1386325927</td>\n",
              "      <td>alinakirpicheva</td>\n",
              "      <td>Да, все-таки он немного похож на него. Но мой ...</td>\n",
              "      <td>1</td>\n",
              "      <td>0</td>\n",
              "      <td>0</td>\n",
              "      <td>0</td>\n",
              "      <td>11825</td>\n",
              "      <td>59</td>\n",
              "      <td>31</td>\n",
              "      <td>2</td>\n",
              "    </tr>\n",
              "    <tr>\n",
              "      <th>408906695083954177</th>\n",
              "      <td>1386325927</td>\n",
              "      <td>EvgeshaRe</td>\n",
              "      <td>RT @KatiaCheh: Ну ты идиотка) я испугалась за ...</td>\n",
              "      <td>1</td>\n",
              "      <td>0</td>\n",
              "      <td>1</td>\n",
              "      <td>0</td>\n",
              "      <td>1273</td>\n",
              "      <td>26</td>\n",
              "      <td>27</td>\n",
              "      <td>0</td>\n",
              "    </tr>\n",
              "    <tr>\n",
              "      <th>408906695356973056</th>\n",
              "      <td>1386325927</td>\n",
              "      <td>ikonnikova_21</td>\n",
              "      <td>RT @digger2912: \"Кто то в углу сидит и погибае...</td>\n",
              "      <td>1</td>\n",
              "      <td>0</td>\n",
              "      <td>1</td>\n",
              "      <td>0</td>\n",
              "      <td>1549</td>\n",
              "      <td>19</td>\n",
              "      <td>17</td>\n",
              "      <td>0</td>\n",
              "    </tr>\n",
              "    <tr>\n",
              "      <th>408906761416867842</th>\n",
              "      <td>1386325943</td>\n",
              "      <td>JumpyAlex</td>\n",
              "      <td>@irina_dyshkant Вот что значит страшилка :D\\nН...</td>\n",
              "      <td>1</td>\n",
              "      <td>0</td>\n",
              "      <td>0</td>\n",
              "      <td>0</td>\n",
              "      <td>597</td>\n",
              "      <td>16</td>\n",
              "      <td>23</td>\n",
              "      <td>1</td>\n",
              "    </tr>\n",
              "  </tbody>\n",
              "</table>\n",
              "</div>"
            ],
            "text/plain": [
              "                          date             name  ... frien  listcount\n",
              "id                                               ...                 \n",
              "408906692374446080  1386325927  pleease_shut_up  ...    61          0\n",
              "408906692693221377  1386325927  alinakirpicheva  ...    31          2\n",
              "408906695083954177  1386325927        EvgeshaRe  ...    27          0\n",
              "408906695356973056  1386325927    ikonnikova_21  ...    17          0\n",
              "408906761416867842  1386325943        JumpyAlex  ...    23          1\n",
              "\n",
              "[5 rows x 11 columns]"
            ]
          },
          "metadata": {},
          "execution_count": 4
        }
      ]
    },
    {
      "cell_type": "code",
      "source": [
        "negative_df = pd.read_csv(\"/content/drive/MyDrive/Colab Notebooks/NNmethods/negative.csv\", header=None, sep=';', names=col_names, index_col=0)"
      ],
      "metadata": {
        "id": "cDHHo_uXg8MV"
      },
      "execution_count": null,
      "outputs": []
    },
    {
      "cell_type": "code",
      "source": [
        "all_df = pd.concat([positive_df, negative_df], ignore_index=True)"
      ],
      "metadata": {
        "id": "1LQhGmeOhAGW"
      },
      "execution_count": null,
      "outputs": []
    },
    {
      "cell_type": "code",
      "source": [
        "all_df[\"type\"] = all_df[\"type\"].replace([-1], 0)"
      ],
      "metadata": {
        "id": "b_pT8l7chBxM"
      },
      "execution_count": null,
      "outputs": []
    },
    {
      "cell_type": "code",
      "source": [
        "tokenized_texts = []\n",
        "for i in tqdm(range(len(all_df))):\n",
        "  tokenized_texts.append(word_tokenize(all_df['text'].iloc[i]))"
      ],
      "metadata": {
        "colab": {
          "base_uri": "https://localhost:8080/"
        },
        "id": "ERXd07LBjTLn",
        "outputId": "282ff50b-a962-432c-89ce-f074f269d593"
      },
      "execution_count": null,
      "outputs": [
        {
          "output_type": "stream",
          "name": "stderr",
          "text": [
            "100%|██████████| 226834/226834 [01:01<00:00, 3681.92it/s]\n"
          ]
        }
      ]
    },
    {
      "cell_type": "code",
      "source": [
        "clean_tokenized_texts = []\n",
        "for text in tokenized_texts:\n",
        "    text_tokens = []\n",
        "    for thing in text:\n",
        "        if thing not in punctuation:\n",
        "            text_tokens.append(thing)\n",
        "    clean_tokenized_texts.append(text_tokens)"
      ],
      "metadata": {
        "id": "RbnEpQFjjoAB"
      },
      "execution_count": null,
      "outputs": []
    },
    {
      "cell_type": "code",
      "source": [
        "all_df.insert(3, 'text_tokenized', clean_tokenized_texts)"
      ],
      "metadata": {
        "id": "whQYPj3C28Wv"
      },
      "execution_count": null,
      "outputs": []
    },
    {
      "cell_type": "code",
      "source": [
        "all_df.head()"
      ],
      "metadata": {
        "colab": {
          "base_uri": "https://localhost:8080/",
          "height": 391
        },
        "id": "tdt0L1R4hMoZ",
        "outputId": "44c42937-a09f-45c1-b53c-762cde3ba761"
      },
      "execution_count": null,
      "outputs": [
        {
          "output_type": "execute_result",
          "data": {
            "text/html": [
              "<div>\n",
              "<style scoped>\n",
              "    .dataframe tbody tr th:only-of-type {\n",
              "        vertical-align: middle;\n",
              "    }\n",
              "\n",
              "    .dataframe tbody tr th {\n",
              "        vertical-align: top;\n",
              "    }\n",
              "\n",
              "    .dataframe thead th {\n",
              "        text-align: right;\n",
              "    }\n",
              "</style>\n",
              "<table border=\"1\" class=\"dataframe\">\n",
              "  <thead>\n",
              "    <tr style=\"text-align: right;\">\n",
              "      <th></th>\n",
              "      <th>date</th>\n",
              "      <th>name</th>\n",
              "      <th>text</th>\n",
              "      <th>type</th>\n",
              "      <th>rep</th>\n",
              "      <th>rtw</th>\n",
              "      <th>fav</th>\n",
              "      <th>stcount</th>\n",
              "      <th>foll</th>\n",
              "      <th>frien</th>\n",
              "      <th>listcount</th>\n",
              "      <th>text_tokenized</th>\n",
              "    </tr>\n",
              "  </thead>\n",
              "  <tbody>\n",
              "    <tr>\n",
              "      <th>0</th>\n",
              "      <td>1386325927</td>\n",
              "      <td>pleease_shut_up</td>\n",
              "      <td>@first_timee хоть я и школота, но поверь, у на...</td>\n",
              "      <td>1</td>\n",
              "      <td>0</td>\n",
              "      <td>0</td>\n",
              "      <td>0</td>\n",
              "      <td>7569</td>\n",
              "      <td>62</td>\n",
              "      <td>61</td>\n",
              "      <td>0</td>\n",
              "      <td>[@first_timee, хоть, я, и, школота, но, поверь...</td>\n",
              "    </tr>\n",
              "    <tr>\n",
              "      <th>1</th>\n",
              "      <td>1386325927</td>\n",
              "      <td>alinakirpicheva</td>\n",
              "      <td>Да, все-таки он немного похож на него. Но мой ...</td>\n",
              "      <td>1</td>\n",
              "      <td>0</td>\n",
              "      <td>0</td>\n",
              "      <td>0</td>\n",
              "      <td>11825</td>\n",
              "      <td>59</td>\n",
              "      <td>31</td>\n",
              "      <td>2</td>\n",
              "      <td>[Да, все-таки, он, немного, похож, на, него, Н...</td>\n",
              "    </tr>\n",
              "    <tr>\n",
              "      <th>2</th>\n",
              "      <td>1386325927</td>\n",
              "      <td>EvgeshaRe</td>\n",
              "      <td>RT @KatiaCheh: Ну ты идиотка) я испугалась за ...</td>\n",
              "      <td>1</td>\n",
              "      <td>0</td>\n",
              "      <td>1</td>\n",
              "      <td>0</td>\n",
              "      <td>1273</td>\n",
              "      <td>26</td>\n",
              "      <td>27</td>\n",
              "      <td>0</td>\n",
              "      <td>[RT, @KatiaCheh, Ну, ты, идиотка, я, испугалас...</td>\n",
              "    </tr>\n",
              "    <tr>\n",
              "      <th>3</th>\n",
              "      <td>1386325927</td>\n",
              "      <td>ikonnikova_21</td>\n",
              "      <td>RT @digger2912: \"Кто то в углу сидит и погибае...</td>\n",
              "      <td>1</td>\n",
              "      <td>0</td>\n",
              "      <td>1</td>\n",
              "      <td>0</td>\n",
              "      <td>1549</td>\n",
              "      <td>19</td>\n",
              "      <td>17</td>\n",
              "      <td>0</td>\n",
              "      <td>[RT, @digger2912, Кто, то, в, углу, сидит, и, ...</td>\n",
              "    </tr>\n",
              "    <tr>\n",
              "      <th>4</th>\n",
              "      <td>1386325943</td>\n",
              "      <td>JumpyAlex</td>\n",
              "      <td>@irina_dyshkant Вот что значит страшилка :D\\nН...</td>\n",
              "      <td>1</td>\n",
              "      <td>0</td>\n",
              "      <td>0</td>\n",
              "      <td>0</td>\n",
              "      <td>597</td>\n",
              "      <td>16</td>\n",
              "      <td>23</td>\n",
              "      <td>1</td>\n",
              "      <td>[@irina_dyshkant, Вот, что, значит, страшилка,...</td>\n",
              "    </tr>\n",
              "  </tbody>\n",
              "</table>\n",
              "</div>"
            ],
            "text/plain": [
              "         date  ...                                     text_tokenized\n",
              "0  1386325927  ...  [@first_timee, хоть, я, и, школота, но, поверь...\n",
              "1  1386325927  ...  [Да, все-таки, он, немного, похож, на, него, Н...\n",
              "2  1386325927  ...  [RT, @KatiaCheh, Ну, ты, идиотка, я, испугалас...\n",
              "3  1386325927  ...  [RT, @digger2912, Кто, то, в, углу, сидит, и, ...\n",
              "4  1386325943  ...  [@irina_dyshkant, Вот, что, значит, страшилка,...\n",
              "\n",
              "[5 rows x 12 columns]"
            ]
          },
          "metadata": {},
          "execution_count": 46
        }
      ]
    },
    {
      "cell_type": "code",
      "source": [
        "train_data, val_data = train_test_split(all_df, test_size=0.2)"
      ],
      "metadata": {
        "id": "LcLJSO1phOtt"
      },
      "execution_count": null,
      "outputs": []
    },
    {
      "cell_type": "code",
      "source": [
        "vocab = Counter()\n",
        "for tokens in all_df['text_tokenized']:\n",
        "        vocab.update(list([token.lower() for token in tokens]))\n",
        "print('всего уникальных токенов:', len(vocab))"
      ],
      "metadata": {
        "colab": {
          "base_uri": "https://localhost:8080/"
        },
        "id": "1yFT1x9hhS89",
        "outputId": "5477044a-717c-49da-c16a-efc2b46d6adf"
      },
      "execution_count": null,
      "outputs": [
        {
          "output_type": "stream",
          "name": "stdout",
          "text": [
            "всего уникальных токенов: 302594\n"
          ]
        }
      ]
    },
    {
      "cell_type": "code",
      "source": [
        "filtered_vocab = set()\n",
        "\n",
        "for token in vocab:\n",
        "    if vocab[token] > 10:\n",
        "        filtered_vocab.add(token)\n",
        "print('уникальных токенов, встретившихся более десяти раз:', len(filtered_vocab))"
      ],
      "metadata": {
        "colab": {
          "base_uri": "https://localhost:8080/"
        },
        "id": "WnLXu6UdhU-e",
        "outputId": "db0110a7-78f2-4ff5-ad2f-b98448481d20"
      },
      "execution_count": null,
      "outputs": [
        {
          "output_type": "stream",
          "name": "stdout",
          "text": [
            "уникальных токенов, встретившихся более десяти раз: 17767\n"
          ]
        }
      ]
    },
    {
      "cell_type": "code",
      "source": [
        "word2id = {'PAD':0}\n",
        "\n",
        "for token in filtered_vocab:\n",
        "    word2id[token] = len(word2id)"
      ],
      "metadata": {
        "id": "PPWUv8eohZU9"
      },
      "execution_count": null,
      "outputs": []
    },
    {
      "cell_type": "code",
      "source": [
        "id2word = {i:word for word, i in word2id.items()}"
      ],
      "metadata": {
        "id": "l0b8EARhhbPu"
      },
      "execution_count": null,
      "outputs": []
    },
    {
      "cell_type": "code",
      "source": [
        "DEVICE = torch.device('cuda') if torch.cuda.is_available() else torch.device('cpu')\n",
        "DEVICE"
      ],
      "metadata": {
        "colab": {
          "base_uri": "https://localhost:8080/"
        },
        "id": "KsAb0Q0-hc-k",
        "outputId": "35c8b914-38e4-49a9-de0a-458b2e77078c"
      },
      "execution_count": null,
      "outputs": [
        {
          "output_type": "execute_result",
          "data": {
            "text/plain": [
              "device(type='cuda')"
            ]
          },
          "metadata": {},
          "execution_count": 52
        }
      ]
    },
    {
      "cell_type": "code",
      "source": [
        "class TweetDataset(Dataset):\n",
        "\n",
        "    def __init__(self, dataset, symbol2id, DEVICE):\n",
        "        self.dataset = dataset['text_tokenized'].values\n",
        "        self.word2id = word2id\n",
        "        self.length = dataset.shape[0]\n",
        "        self.target = dataset['type'].values\n",
        "        self.device = DEVICE\n",
        "\n",
        "    def __len__(self):\n",
        "        return self.length\n",
        "\n",
        "    def __getitem__(self, index): \n",
        "        tokens = list(self.dataset[index])\n",
        "        ids = torch.LongTensor([self.word2id[token] for token in tokens if token in self.word2id])\n",
        "        y = [self.target[index]]\n",
        "        return ids, y\n",
        "\n",
        "    def collate_fn(self, batch):\n",
        "        ids, y = list(zip(*batch))\n",
        "        padded_ids = pad_sequence(ids, batch_first=True).to(self.device)\n",
        "        y = torch.Tensor(y).to(self.device)\n",
        "        return padded_ids, y"
      ],
      "metadata": {
        "id": "mvHK7vlyhfEW"
      },
      "execution_count": null,
      "outputs": []
    },
    {
      "cell_type": "code",
      "source": [
        "train_dataset = TweetDataset(train_data, word2id, DEVICE)\n",
        "train_sampler = RandomSampler(train_dataset)\n",
        "train_iterator = DataLoader(train_dataset, collate_fn=train_dataset.collate_fn, sampler=train_sampler, batch_size=1024)"
      ],
      "metadata": {
        "id": "BCGONCfzhhGV"
      },
      "execution_count": null,
      "outputs": []
    },
    {
      "cell_type": "code",
      "source": [
        "batch = next(iter(train_iterator))"
      ],
      "metadata": {
        "id": "ZIIawut_hqQv"
      },
      "execution_count": null,
      "outputs": []
    },
    {
      "cell_type": "code",
      "source": [
        "[id2word[int(i)] for i in batch[0][0]]"
      ],
      "metadata": {
        "id": "n5SzmtsOhlKF"
      },
      "execution_count": null,
      "outputs": []
    },
    {
      "cell_type": "code",
      "source": [
        "val_dataset = TweetDataset(val_data, word2id, DEVICE)\n",
        "val_sampler = SequentialSampler(val_dataset)\n",
        "val_iterator = DataLoader(val_dataset, collate_fn = val_dataset.collate_fn, sampler=val_sampler, batch_size=1024)"
      ],
      "metadata": {
        "id": "OSOHrgNwhriC"
      },
      "execution_count": null,
      "outputs": []
    },
    {
      "cell_type": "code",
      "source": [
        "test_batch = next(iter(val_iterator))"
      ],
      "metadata": {
        "id": "pmicsGaLhyTl"
      },
      "execution_count": null,
      "outputs": []
    },
    {
      "cell_type": "code",
      "source": [
        "class CNN(nn.Module):\n",
        "    \n",
        "    def __init__(self, vocab_size, embedding_dim):\n",
        "        super().__init__()\n",
        "        self.embedding = nn.Embedding(vocab_size, embedding_dim)\n",
        "        self.bigrams = nn.Conv1d(in_channels=embedding_dim, out_channels=100, kernel_size=2, padding='same')\n",
        "        self.trigrams = nn.Conv1d(in_channels=embedding_dim, out_channels=80, kernel_size=3, padding='same')\n",
        "        self.bigrams2 = nn.Conv1d(in_channels=180, out_channels=100, kernel_size=2, padding='same')\n",
        "        self.pooling = nn.MaxPool1d(kernel_size=2, stride=2)\n",
        "        self.hidden = nn.Linear(in_features=100, out_features=1)\n",
        "        self.out = nn.Sigmoid()\n",
        "    \n",
        "    def forward(self, word):\n",
        "        embedded = self.embedding(word)\n",
        "        embedded = embedded.transpose(1,2)\n",
        "        feature_map_bigrams = self.bigrams(embedded)\n",
        "        feature_map_trigrams = self.trigrams(embedded)\n",
        "        concat = torch.cat((feature_map_bigrams, feature_map_trigrams), 1)\n",
        "        concat_bigrams = self.bigrams2(concat)\n",
        "        pooling = self.pooling(concat_bigrams)\n",
        "        pooling = pooling.max(2)[0]\n",
        "\n",
        "        logits = self.hidden(pooling) \n",
        "        logits = self.out(logits)      \n",
        "        return logits"
      ],
      "metadata": {
        "id": "3rKH9abhh2Lp"
      },
      "execution_count": null,
      "outputs": []
    },
    {
      "cell_type": "code",
      "source": [
        "batch, y = next(iter(train_iterator))\n",
        "batch, y = batch.to(device='cpu'), y.to(device='cpu')\n",
        "print(batch)"
      ],
      "metadata": {
        "colab": {
          "base_uri": "https://localhost:8080/"
        },
        "id": "cBY6VwTKh3wC",
        "outputId": "982ba655-d2dd-4081-9e78-b4afef597bf2"
      },
      "execution_count": null,
      "outputs": [
        {
          "output_type": "stream",
          "name": "stdout",
          "text": [
            "tensor([[ 9795, 11495,  6679,  ...,     0,     0,     0],\n",
            "        [ 4072,  7993, 10309,  ...,     0,     0,     0],\n",
            "        [15793,  7086, 13089,  ...,     0,     0,     0],\n",
            "        ...,\n",
            "        [16029, 13089,   795,  ...,     0,     0,     0],\n",
            "        [ 4732,  8978,  7993,  ...,     0,     0,     0],\n",
            "        [13089,  1214,  5430,  ...,     0,     0,     0]])\n"
          ]
        }
      ]
    },
    {
      "cell_type": "code",
      "source": [
        "loss = nn.BCELoss()"
      ],
      "metadata": {
        "id": "o4MdOZTmh5tw"
      },
      "execution_count": null,
      "outputs": []
    },
    {
      "cell_type": "code",
      "source": [
        "def train(model, iterator, optimizer, criterion):\n",
        "    epoch_loss = 0\n",
        "\n",
        "    model.train()\n",
        "\n",
        "    for i, (texts, ys) in enumerate(iterator):\n",
        "        optimizer.zero_grad()\n",
        "        preds = model(texts)\n",
        "        loss = criterion(preds, ys)\n",
        "        loss.backward()\n",
        "        optimizer.step()\n",
        "        epoch_loss += loss.item() \n",
        "        if not (i + 1) % int(len(iterator)/5):\n",
        "            print(f'Train loss: {epoch_loss/i}')      \n",
        "    return  epoch_loss / len(iterator)"
      ],
      "metadata": {
        "id": "WUkJGiSYh9Ad"
      },
      "execution_count": null,
      "outputs": []
    },
    {
      "cell_type": "code",
      "source": [
        "def evaluate(model, iterator, criterion):\n",
        "    epoch_loss = 0\n",
        "    epoch_metric = 0\n",
        "    model.eval() \n",
        "    with torch.no_grad():\n",
        "        for i, (texts, ys) in enumerate(iterator):   \n",
        "            preds = model(texts)\n",
        "            loss = criterion(preds, ys)\n",
        "            epoch_loss += loss.item()\n",
        "            batch_metric = f1(preds.round().long(), ys.long(), ignore_index=0)\n",
        "            epoch_metric += batch_metric\n",
        "\n",
        "            if not (i + 1) % int(len(iterator)/5):\n",
        "                print(f'Val loss: {epoch_loss/i}, Val f1: {epoch_metric/i}')\n",
        "        \n",
        "    return epoch_metric / len(iterator), epoch_loss / len(iterator) # возвращаем среднее значение по всей выборке"
      ],
      "metadata": {
        "id": "FwAGhjWlh-5m"
      },
      "execution_count": null,
      "outputs": []
    },
    {
      "cell_type": "code",
      "source": [
        "model = CNN(len(word2id), 64)\n",
        "optimizer = optim.Adam(model.parameters(), lr=0.0005)\n",
        "criterion = nn.BCELoss()"
      ],
      "metadata": {
        "id": "zUsWINkriCqt"
      },
      "execution_count": null,
      "outputs": []
    },
    {
      "cell_type": "code",
      "source": [
        "model = model.to(DEVICE)\n",
        "criterion = criterion.to(DEVICE)"
      ],
      "metadata": {
        "id": "OyNhGmM2iEIc"
      },
      "execution_count": null,
      "outputs": []
    },
    {
      "cell_type": "code",
      "source": [
        "def train_eval(model, t_iterator, v_iterator, optimizer, criterion, epochs=20):\n",
        "    losses = []\n",
        "    losses_eval = []\n",
        "    f1s = []\n",
        "    f1s_eval = []\n",
        "    log = {'train_loss': [], 'val_loss': [], 'val_f1': []}\n",
        "\n",
        "    for i in range(epochs):\n",
        "        print(f'\\nEpoch {i}')\n",
        "        print('Training...')\n",
        "        epoch_loss = train(model, t_iterator, optimizer, criterion)\n",
        "        losses.append(epoch_loss)\n",
        "        print('\\nEvaluating on train...')\n",
        "        f1_on_train,_ = evaluate(model, t_iterator, criterion)\n",
        "        f1s.append(f1_on_train)\n",
        "        print('\\nEvaluating on test...')\n",
        "        f1_on_test, epoch_loss_on_test = evaluate(model, v_iterator, criterion)\n",
        "        losses_eval.append(epoch_loss_on_test)\n",
        "        f1s_eval.append(f1_on_test)\n",
        "\n",
        "        log['train_loss'] = losses\n",
        "        log['val_loss'] = losses_eval    \n",
        "        \n",
        "        if i % 10 == 0:\n",
        "            fig, axs = plt.subplots(1, len(log), figsize=(15, 5))\n",
        "            for i, (name, vals) in enumerate(log.items()):\n",
        "                axs[i].plot(vals)\n",
        "                axs[i].set_title(name)\n",
        "            plt.show()\n",
        "            log['val_f1'] = f1s_eval\n",
        "\n",
        "    return losses, losses_eval, f1s, f1s_eval"
      ],
      "metadata": {
        "id": "BUr-iwjxiGRp"
      },
      "execution_count": null,
      "outputs": []
    },
    {
      "cell_type": "code",
      "source": [
        "losses, losses_eval, f1s, f1s_eval = train_eval(model, train_iterator, val_iterator, optimizer, criterion)"
      ],
      "metadata": {
        "colab": {
          "base_uri": "https://localhost:8080/",
          "height": 1000
        },
        "id": "vTKJeJGqiHSZ",
        "outputId": "768deba6-e280-409a-8c77-92fe65274afb"
      },
      "execution_count": null,
      "outputs": [
        {
          "output_type": "stream",
          "name": "stdout",
          "text": [
            "\n",
            "Epoch 0\n",
            "Training...\n",
            "Train loss: 0.024997888406848207\n",
            "Train loss: 0.02347231907365115\n",
            "Train loss: 0.023675956046925142\n",
            "Train loss: 0.023430191811254556\n",
            "Train loss: 0.024068262042670416\n",
            "\n",
            "Evaluating on train...\n",
            "Val loss: 0.021141722743563792, Val f1: 1.022192120552063\n",
            "Val loss: 0.02126106762907643, Val f1: 1.006906509399414\n",
            "Val loss: 0.021223694712926563, Val f1: 1.0018852949142456\n",
            "Val loss: 0.02121393211025128, Val f1: 0.9994325637817383\n",
            "Val loss: 0.021292210262183142, Val f1: 0.9980678558349609\n",
            "\n",
            "Evaluating on test...\n",
            "Val loss: 1.7072167694568634, Val f1: 0.8910163044929504\n",
            "Val loss: 1.6274725829853731, Val f1: 0.8427831530570984\n",
            "Val loss: 1.6368152178250825, Val f1: 0.8258795142173767\n",
            "Val loss: 1.6530042171478272, Val f1: 0.8182269334793091\n",
            "Val loss: 1.6418213627555154, Val f1: 0.812772274017334\n"
          ]
        },
        {
          "output_type": "display_data",
          "data": {
            "image/png": "[encoded data removed]",
            "text/plain": [
              "<Figure size 1080x360 with 3 Axes>"
            ]
          },
          "metadata": {
            "needs_background": "light"
          }
        },
        {
          "output_type": "stream",
          "name": "stdout",
          "text": [
            "\n",
            "Epoch 1\n",
            "Training...\n",
            "Train loss: 0.021811953499255812\n",
            "Train loss: 0.022227376699447632\n",
            "Train loss: 0.02212040015281393\n",
            "Train loss: 0.022247630144677146\n",
            "Train loss: 0.022837996927100694\n",
            "\n",
            "Evaluating on train...\n",
            "Val loss: 0.024052477386944434, Val f1: 1.0181037187576294\n",
            "Val loss: 0.02405943632449793, Val f1: 1.0030218362808228\n",
            "Val loss: 0.024039676206974454, Val f1: 0.9978805780410767\n",
            "Val loss: 0.023601065872223687, Val f1: 0.9956928491592407\n",
            "Val loss: 0.02364444610095401, Val f1: 0.9941434264183044\n",
            "\n",
            "Evaluating on test...\n",
            "Val loss: 1.786432608962059, Val f1: 0.8819264769554138\n",
            "Val loss: 1.7045190544689404, Val f1: 0.8346413373947144\n",
            "Val loss: 1.6993836806370661, Val f1: 0.8186147212982178\n",
            "Val loss: 1.7089520931243896, Val f1: 0.8115477561950684\n",
            "Val loss: 1.707141174511476, Val f1: 0.8067998290061951\n",
            "\n",
            "Epoch 2\n",
            "Training...\n",
            "Train loss: 0.021682037834954614\n",
            "Train loss: 0.021381581661061966\n",
            "Train loss: 0.021387187352117438\n",
            "Train loss: 0.02221594032623785\n",
            "Train loss: 0.022660311482761097\n",
            "\n",
            "Evaluating on train...\n",
            "Val loss: 0.01979008922353387, Val f1: 1.022026538848877\n",
            "Val loss: 0.019788323915091114, Val f1: 1.0071601867675781\n",
            "Val loss: 0.02004239034767334, Val f1: 1.002193808555603\n",
            "Val loss: 0.01999640358920149, Val f1: 0.9997966289520264\n",
            "Val loss: 0.02023921659130646, Val f1: 0.9982020258903503\n",
            "\n",
            "Evaluating on test...\n",
            "Val loss: 1.7663169205188751, Val f1: 0.8877828121185303\n",
            "Val loss: 1.6935522416058708, Val f1: 0.8393741250038147\n",
            "Val loss: 1.6999915471443763, Val f1: 0.8226898908615112\n",
            "Val loss: 1.7149974039622715, Val f1: 0.8145028948783875\n",
            "Val loss: 1.717145342718471, Val f1: 0.8089541792869568\n",
            "\n",
            "Epoch 3\n",
            "Training...\n",
            "Train loss: 0.023887152400086906\n",
            "Train loss: 0.02305382557645224\n",
            "Train loss: 0.022621084300156396\n",
            "Train loss: 0.02298378414414126\n",
            "Train loss: 0.02290073920833482\n",
            "\n",
            "Evaluating on train...\n",
            "Val loss: 0.020614822039051968, Val f1: 1.0223934650421143\n",
            "Val loss: 0.021236279520435608, Val f1: 1.0072516202926636\n",
            "Val loss: 0.021393479788317703, Val f1: 1.002270221710205\n",
            "Val loss: 0.021774356682255542, Val f1: 0.9996750950813293\n",
            "Val loss: 0.02184852072433836, Val f1: 0.9981575608253479\n",
            "\n",
            "Evaluating on test...\n",
            "Val loss: 1.9301501363515854, Val f1: 0.8961864113807678\n",
            "Val loss: 1.853728743160472, Val f1: 0.8460524082183838\n",
            "Val loss: 1.8588151748363788, Val f1: 0.8304092884063721\n",
            "Val loss: 1.8730990852628435, Val f1: 0.8223581314086914\n",
            "Val loss: 1.861363874240355, Val f1: 0.8169791102409363\n",
            "\n",
            "Epoch 4\n",
            "Training...\n",
            "Train loss: 0.02020131454200429\n",
            "Train loss: 0.01998236419066139\n",
            "Train loss: 0.02002827937786396\n",
            "Train loss: 0.020926720188032807\n",
            "Train loss: 0.02109609066840561\n",
            "\n",
            "Evaluating on train...\n",
            "Val loss: 0.022364371702732408, Val f1: 1.0214098691940308\n",
            "Val loss: 0.021644174553237965, Val f1: 1.0066859722137451\n",
            "Val loss: 0.02124200981611816, Val f1: 1.0020395517349243\n",
            "Val loss: 0.02122720941338393, Val f1: 0.9996548891067505\n",
            "Val loss: 0.021441902740505236, Val f1: 0.9981384873390198\n",
            "\n",
            "Evaluating on test...\n",
            "Val loss: 2.0542316883802414, Val f1: 0.8975193500518799\n",
            "Val loss: 1.9351721791660084, Val f1: 0.8473382592201233\n",
            "Val loss: 1.944885015487671, Val f1: 0.8311603665351868\n",
            "Val loss: 1.9756459202085221, Val f1: 0.823801577091217\n",
            "Val loss: 1.957193144343116, Val f1: 0.8185093998908997\n",
            "\n",
            "Epoch 5\n",
            "Training...\n",
            "Train loss: 0.02332182338132578\n",
            "Train loss: 0.022709866391791813\n",
            "Train loss: 0.02173865282943902\n",
            "Train loss: 0.021574583232885212\n",
            "Train loss: 0.021863093685315943\n",
            "\n",
            "Evaluating on train...\n",
            "Val loss: 0.020032430862021798, Val f1: 1.0210819244384766\n",
            "Val loss: 0.0196186405863019, Val f1: 1.0064001083374023\n",
            "Val loss: 0.019078442298520643, Val f1: 1.0019848346710205\n",
            "Val loss: 0.018903856621318157, Val f1: 0.9997519254684448\n",
            "Val loss: 0.01882619980251652, Val f1: 0.9984625577926636\n",
            "\n",
            "Evaluating on test...\n",
            "Val loss: 2.0820793509483337, Val f1: 0.8964380621910095\n",
            "Val loss: 1.9547060026842005, Val f1: 0.8459151983261108\n",
            "Val loss: 1.9584570343677814, Val f1: 0.8300780057907104\n",
            "Val loss: 1.9733955315181186, Val f1: 0.8216515183448792\n",
            "Val loss: 1.956033850258047, Val f1: 0.8165619969367981\n",
            "\n",
            "Epoch 6\n",
            "Training...\n",
            "Train loss: 0.020327797406079137\n",
            "Train loss: 0.019995466792497082\n",
            "Train loss: 0.02000200006072051\n",
            "Train loss: 0.020157553369460776\n",
            "Train loss: 0.02029945919739789\n",
            "\n",
            "Evaluating on train...\n",
            "Val loss: 0.020155590739758575, Val f1: 1.022059679031372\n",
            "Val loss: 0.020189377033840054, Val f1: 1.007079005241394\n",
            "Val loss: 0.020053701672273185, Val f1: 1.002230167388916\n",
            "Val loss: 0.020198523743654325, Val f1: 0.9996427893638611\n",
            "Val loss: 0.020111981897090358, Val f1: 0.998228132724762\n",
            "\n",
            "Evaluating on test...\n",
            "Val loss: 1.9603285491466522, Val f1: 0.8906259536743164\n",
            "Val loss: 1.8617408766466028, Val f1: 0.8429700136184692\n",
            "Val loss: 1.8783115836290212, Val f1: 0.8256393074989319\n",
            "Val loss: 1.8923627955572946, Val f1: 0.8172348737716675\n",
            "Val loss: 1.8837967623363843, Val f1: 0.8126842379570007\n",
            "\n",
            "Epoch 7\n",
            "Training...\n",
            "Train loss: 0.018939042299547616\n",
            "Train loss: 0.019020636377019295\n",
            "Train loss: 0.019173799593073245\n",
            "Train loss: 0.019369648380888452\n",
            "Train loss: 0.019509253648762732\n",
            "\n",
            "Evaluating on train...\n",
            "Val loss: 0.019305738866986596, Val f1: 1.022306203842163\n",
            "Val loss: 0.01870145054831021, Val f1: 1.007462978363037\n",
            "Val loss: 0.01888620864170102, Val f1: 1.0025520324707031\n",
            "Val loss: 0.018783696324115605, Val f1: 1.0001301765441895\n",
            "Val loss: 0.01869100802738605, Val f1: 0.998627781867981\n",
            "\n",
            "Evaluating on test...\n",
            "Val loss: 2.105412945151329, Val f1: 0.8915862441062927\n",
            "Val loss: 1.9718909894718843, Val f1: 0.8443388342857361\n",
            "Val loss: 1.9801215208493745, Val f1: 0.8279755115509033\n",
            "Val loss: 1.9859518323625838, Val f1: 0.8199360966682434\n",
            "Val loss: 1.9719737145033749, Val f1: 0.8145991563796997\n",
            "\n",
            "Epoch 8\n",
            "Training...\n",
            "Train loss: 0.01920650077655035\n",
            "Train loss: 0.019065917388576527\n",
            "Train loss: 0.019445087689046677\n",
            "Train loss: 0.019651083624084218\n",
            "Train loss: 0.019791760160748302\n",
            "\n",
            "Evaluating on train...\n",
            "Val loss: 0.018055134124177342, Val f1: 1.0219788551330566\n",
            "Val loss: 0.01813915940136581, Val f1: 1.006857991218567\n",
            "Val loss: 0.017652807309507176, Val f1: 1.002298355102539\n",
            "Val loss: 0.017567533624472376, Val f1: 0.9999218583106995\n",
            "Val loss: 0.017500226401948725, Val f1: 0.9985750317573547\n",
            "\n",
            "Evaluating on test...\n",
            "Val loss: 2.175994575023651, Val f1: 0.8933343887329102\n",
            "Val loss: 2.0415599276037777, Val f1: 0.8444095849990845\n",
            "Val loss: 2.0511248340973487, Val f1: 0.8284876942634583\n",
            "Val loss: 2.055174800327846, Val f1: 0.8206479549407959\n",
            "Val loss: 2.0415462770245294, Val f1: 0.8150140643119812\n",
            "\n",
            "Epoch 9\n",
            "Training...\n",
            "Train loss: 0.019440821043270474\n",
            "Train loss: 0.018921870589796184\n",
            "Train loss: 0.01864911583610452\n",
            "Train loss: 0.019060804267420614\n",
            "Train loss: 0.019369957470816785\n",
            "\n",
            "Evaluating on train...\n",
            "Val loss: 0.018136684426709133, Val f1: 1.022344946861267\n",
            "Val loss: 0.01704850886017084, Val f1: 1.0077189207077026\n",
            "Val loss: 0.0170894677285105, Val f1: 1.0027031898498535\n",
            "Val loss: 0.017013200136611787, Val f1: 1.0002102851867676\n",
            "Val loss: 0.017130240658833378, Val f1: 0.9987043142318726\n",
            "\n",
            "Evaluating on test...\n",
            "Val loss: 2.2552368491888046, Val f1: 0.8908371329307556\n",
            "Val loss: 2.117676419370315, Val f1: 0.8423897624015808\n",
            "Val loss: 2.1081259479889503, Val f1: 0.8263355493545532\n",
            "Val loss: 2.106172503743853, Val f1: 0.8182686567306519\n",
            "Val loss: 2.0912387045946987, Val f1: 0.8131418228149414\n",
            "\n",
            "Epoch 10\n",
            "Training...\n",
            "Train loss: 0.018936484230353552\n",
            "Train loss: 0.019193689446842323\n",
            "Train loss: 0.018904084590478584\n",
            "Train loss: 0.018603449519857658\n",
            "Train loss: 0.018841459383738452\n",
            "\n",
            "Evaluating on train...\n",
            "Val loss: 0.016893968287417117, Val f1: 1.0223779678344727\n",
            "Val loss: 0.016517882842732513, Val f1: 1.0075390338897705\n",
            "Val loss: 0.016251532692247286, Val f1: 1.0029109716415405\n",
            "Val loss: 0.01627598420830725, Val f1: 1.0004018545150757\n",
            "Val loss: 0.016381171558737414, Val f1: 0.9988230466842651\n",
            "\n",
            "Evaluating on test...\n",
            "Val loss: 2.239794686436653, Val f1: 0.8907994031906128\n",
            "Val loss: 2.1071600563385906, Val f1: 0.8426392674446106\n",
            "Val loss: 2.0943156526638913, Val f1: 0.8264568448066711\n",
            "Val loss: 2.0985242979867116, Val f1: 0.8179471492767334\n",
            "Val loss: 2.081144858490337, Val f1: 0.8128222823143005\n"
          ]
        },
        {
          "output_type": "display_data",
          "data": {
            "image/png": "[encoded data removed]",
            "text/plain": [
              "<Figure size 1080x360 with 3 Axes>"
            ]
          },
          "metadata": {
            "needs_background": "light"
          }
        },
        {
          "output_type": "stream",
          "name": "stdout",
          "text": [
            "\n",
            "Epoch 11\n",
            "Training...\n",
            "Train loss: 0.017641384839354193\n",
            "Train loss: 0.01789324949293033\n",
            "Train loss: 0.017742219721325315\n",
            "Train loss: 0.01825705856058023\n",
            "Train loss: 0.01863015436128467\n",
            "\n",
            "Evaluating on train...\n",
            "Val loss: 0.017108789261649635, Val f1: 1.0192887783050537\n",
            "Val loss: 0.016705218459600987, Val f1: 1.004483699798584\n",
            "Val loss: 0.01718818756321875, Val f1: 0.9994422197341919\n",
            "Val loss: 0.017367711873631255, Val f1: 0.9967283606529236\n",
            "Val loss: 0.017274315677711677, Val f1: 0.9953222274780273\n",
            "\n",
            "Evaluating on test...\n",
            "Val loss: 2.355601504445076, Val f1: 0.8838348984718323\n",
            "Val loss: 2.1952907057369457, Val f1: 0.8371341824531555\n",
            "Val loss: 2.1814257548405576, Val f1: 0.821734607219696\n",
            "Val loss: 2.185638734272548, Val f1: 0.8135788440704346\n",
            "Val loss: 2.1593335731463, Val f1: 0.8084232211112976\n",
            "\n",
            "Epoch 12\n",
            "Training...\n",
            "Train loss: 0.019219860954977134\n",
            "Train loss: 0.018631492930369965\n",
            "Train loss: 0.018544589679759856\n",
            "Train loss: 0.018620079028145442\n",
            "Train loss: 0.018615137989065427\n",
            "\n",
            "Evaluating on train...\n",
            "Val loss: 0.01757428707445369, Val f1: 1.0218909978866577\n",
            "Val loss: 0.017113765701651573, Val f1: 1.0071817636489868\n",
            "Val loss: 0.016923585664839126, Val f1: 1.0022523403167725\n",
            "Val loss: 0.016917213435760504, Val f1: 0.9999608397483826\n",
            "Val loss: 0.01678244516938582, Val f1: 0.9986221194267273\n",
            "\n",
            "Evaluating on test...\n",
            "Val loss: 2.482819601893425, Val f1: 0.8946926593780518\n",
            "Val loss: 2.287398163010092, Val f1: 0.8455753326416016\n",
            "Val loss: 2.285494795212379, Val f1: 0.8289584517478943\n",
            "Val loss: 2.2848477159227643, Val f1: 0.8202776908874512\n",
            "Val loss: 2.264484614133835, Val f1: 0.8152251243591309\n",
            "\n",
            "Epoch 13\n",
            "Training...\n",
            "Train loss: 0.018402656184180695\n",
            "Train loss: 0.018753095577214506\n",
            "Train loss: 0.01921021432812827\n",
            "Train loss: 0.0190832167294332\n",
            "Train loss: 0.01893901484804335\n",
            "\n",
            "Evaluating on train...\n",
            "Val loss: 0.016740149023997432, Val f1: 1.0218981504440308\n",
            "Val loss: 0.016747132942512417, Val f1: 1.0069905519485474\n",
            "Val loss: 0.016147987773785226, Val f1: 1.0024843215942383\n",
            "Val loss: 0.016144440000166568, Val f1: 0.9999839067459106\n",
            "Val loss: 0.016153069459244437, Val f1: 0.9986269474029541\n",
            "\n",
            "Evaluating on test...\n",
            "Val loss: 2.354810655117035, Val f1: 0.8886812925338745\n",
            "Val loss: 2.2125187340904686, Val f1: 0.8415515422821045\n",
            "Val loss: 2.206336489090553, Val f1: 0.824761688709259\n",
            "Val loss: 2.1939885343824113, Val f1: 0.8165580630302429\n",
            "Val loss: 2.184694590893659, Val f1: 0.8112350106239319\n",
            "\n",
            "Epoch 14\n",
            "Training...\n",
            "Train loss: 0.017812456031713414\n",
            "Train loss: 0.01759840866577798\n",
            "Train loss: 0.01798173849685834\n",
            "Train loss: 0.018136912353819222\n",
            "Train loss: 0.018108525982490558\n",
            "\n",
            "Evaluating on train...\n",
            "Val loss: 0.019197781405904713, Val f1: 1.0217132568359375\n",
            "Val loss: 0.018401751436455095, Val f1: 1.0071965456008911\n",
            "Val loss: 0.018598378201624237, Val f1: 1.0022470951080322\n",
            "Val loss: 0.018320295433748326, Val f1: 0.9999924302101135\n",
            "Val loss: 0.018185718646058918, Val f1: 0.9985960125923157\n",
            "\n",
            "Evaluating on test...\n",
            "Val loss: 2.465457245707512, Val f1: 0.8935468196868896\n",
            "Val loss: 2.280350586947273, Val f1: 0.843867838382721\n",
            "Val loss: 2.258820212804354, Val f1: 0.8277506232261658\n",
            "Val loss: 2.2606412751334055, Val f1: 0.8191271424293518\n",
            "Val loss: 2.2424298416484487, Val f1: 0.8137210607528687\n",
            "\n",
            "Epoch 15\n",
            "Training...\n",
            "Train loss: 0.018447439761503655\n",
            "Train loss: 0.017995825698734192\n",
            "Train loss: 0.018233916005836084\n",
            "Train loss: 0.0185793791529086\n",
            "Train loss: 0.01853262066798306\n",
            "\n",
            "Evaluating on train...\n",
            "Val loss: 0.016528433134012362, Val f1: 1.019020676612854\n",
            "Val loss: 0.016200155006262703, Val f1: 1.0044286251068115\n",
            "Val loss: 0.016450123825611975, Val f1: 0.9992629289627075\n",
            "Val loss: 0.01621743913056503, Val f1: 0.9970549941062927\n",
            "Val loss: 0.01633736166578514, Val f1: 0.9954516291618347\n",
            "\n",
            "Evaluating on test...\n",
            "Val loss: 2.5230685025453568, Val f1: 0.88588547706604\n",
            "Val loss: 2.326705904567943, Val f1: 0.8385583758354187\n",
            "Val loss: 2.3174898211772623, Val f1: 0.8219602704048157\n",
            "Val loss: 2.3155070679528373, Val f1: 0.813858151435852\n",
            "Val loss: 2.2978903001004998, Val f1: 0.8086598515510559\n",
            "\n",
            "Epoch 16\n",
            "Training...\n",
            "Train loss: 0.018330469617948812\n",
            "Train loss: 0.018240037225726723\n",
            "Train loss: 0.018086393627947055\n",
            "Train loss: 0.01812557236579575\n",
            "Train loss: 0.01816315625408857\n",
            "\n",
            "Evaluating on train...\n",
            "Val loss: 0.019740479094359803, Val f1: 1.0218325853347778\n",
            "Val loss: 0.019086720070977142, Val f1: 1.0071836709976196\n",
            "Val loss: 0.018908144207671285, Val f1: 1.0023859739303589\n",
            "Val loss: 0.01860606704550467, Val f1: 1.0000900030136108\n",
            "Val loss: 0.018608328490250414, Val f1: 0.9986175894737244\n",
            "\n",
            "Evaluating on test...\n",
            "Val loss: 2.607113242149353, Val f1: 0.8950024247169495\n",
            "Val loss: 2.3964565571616676, Val f1: 0.8456276059150696\n",
            "Val loss: 2.400130881712987, Val f1: 0.8292133808135986\n",
            "Val loss: 2.39214026927948, Val f1: 0.8208879828453064\n",
            "Val loss: 2.374535463073037, Val f1: 0.8155530095100403\n",
            "\n",
            "Epoch 17\n",
            "Training...\n",
            "Train loss: 0.018893390044789102\n",
            "Train loss: 0.017953380982836952\n",
            "Train loss: 0.01796108143977248\n",
            "Train loss: 0.017667303431323535\n",
            "Train loss: 0.017769477924267793\n",
            "\n",
            "Evaluating on train...\n",
            "Val loss: 0.02146989159176455, Val f1: 1.017696499824524\n",
            "Val loss: 0.021155155020887436, Val f1: 1.002770185470581\n",
            "Val loss: 0.0208768071517205, Val f1: 0.9980806112289429\n",
            "Val loss: 0.020555679250856954, Val f1: 0.9957664012908936\n",
            "Val loss: 0.020281151788116528, Val f1: 0.9944833517074585\n",
            "\n",
            "Evaluating on test...\n",
            "Val loss: 2.3206154257059097, Val f1: 0.8771394491195679\n",
            "Val loss: 2.178514143999885, Val f1: 0.8315598964691162\n",
            "Val loss: 2.1578432596646824, Val f1: 0.8128988146781921\n",
            "Val loss: 2.1671426023755753, Val f1: 0.8050534725189209\n",
            "Val loss: 2.1568646132946014, Val f1: 0.7992108464241028\n",
            "\n",
            "Epoch 18\n",
            "Training...\n",
            "Train loss: 0.018025051473694688\n",
            "Train loss: 0.017531088155194902\n",
            "Train loss: 0.01752478717557656\n",
            "Train loss: 0.01779562755816167\n",
            "Train loss: 0.018025375348676383\n",
            "\n",
            "Evaluating on train...\n",
            "Val loss: 0.01660521440755795, Val f1: 1.0223463773727417\n",
            "Val loss: 0.016517201101110466, Val f1: 1.0074272155761719\n",
            "Val loss: 0.0161209729894136, Val f1: 1.0026161670684814\n",
            "Val loss: 0.016009945167804792, Val f1: 1.000161051750183\n",
            "Val loss: 0.016011524685904725, Val f1: 0.9987229704856873\n",
            "\n",
            "Evaluating on test...\n",
            "Val loss: 2.485839083790779, Val f1: 0.8869932293891907\n",
            "Val loss: 2.3211080887738396, Val f1: 0.8394383788108826\n",
            "Val loss: 2.3171297770280104, Val f1: 0.8218629360198975\n",
            "Val loss: 2.3071729591914587, Val f1: 0.8135997653007507\n",
            "Val loss: 2.2972562340172855, Val f1: 0.8076559901237488\n",
            "\n",
            "Epoch 19\n",
            "Training...\n",
            "Train loss: 0.017372377750956836\n",
            "Train loss: 0.017807699881656015\n",
            "Train loss: 0.017531909769436773\n",
            "Train loss: 0.01763659001080145\n",
            "Train loss: 0.017657137216315014\n",
            "\n",
            "Evaluating on train...\n",
            "Val loss: 0.015593820278916289, Val f1: 1.0224469900131226\n",
            "Val loss: 0.01496202145041763, Val f1: 1.0078210830688477\n",
            "Val loss: 0.015074206954942873, Val f1: 1.0028854608535767\n",
            "Val loss: 0.015109255595012106, Val f1: 1.000400185585022\n",
            "Val loss: 0.015128118531971142, Val f1: 0.998870849609375\n",
            "\n",
            "Evaluating on test...\n",
            "Val loss: 2.695771098136902, Val f1: 0.8928906321525574\n",
            "Val loss: 2.4674084186553955, Val f1: 0.8435125946998596\n",
            "Val loss: 2.4408762638385477, Val f1: 0.8264135718345642\n",
            "Val loss: 2.4266791207449776, Val f1: 0.8177529573440552\n",
            "Val loss: 2.4196244180202484, Val f1: 0.811995804309845\n"
          ]
        }
      ]
    },
    {
      "cell_type": "code",
      "source": [
        ""
      ],
      "metadata": {
        "id": "Hh6WRFIlvYpz"
      },
      "execution_count": null,
      "outputs": []
    },
    {
      "cell_type": "code",
      "source": [
        ""
      ],
      "metadata": {
        "id": "j19SsVY9t099"
      },
      "execution_count": null,
      "outputs": []
    }
  ]
}